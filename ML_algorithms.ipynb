{
 "cells": [
  {
   "cell_type": "markdown",
   "id": "9a91ab81-6f82-4c3b-93b1-4f2a10c5e9de",
   "metadata": {},
   "source": [
    "## Import necessary libraries"
   ]
  },
  {
   "cell_type": "code",
   "execution_count": 1,
   "id": "e7b7e84d-49cc-4975-b707-2c1261aaef43",
   "metadata": {},
   "outputs": [],
   "source": [
    "from sklearn.pipeline import Pipeline\n",
    "from sklearn.model_selection import train_test_split\n",
    "from sklearn.naive_bayes import MultinomialNB\n",
    "from sklearn.tree import DecisionTreeClassifier\n",
    "from sklearn.svm import SVC\n",
    "from sklearn.linear_model import LogisticRegression\n",
    "from sklearn.feature_extraction.text import TfidfVectorizer\n",
    "from sklearn.metrics import accuracy_score, precision_recall_fscore_support\n",
    "import pandas as pd"
   ]
  },
  {
   "cell_type": "markdown",
   "id": "a839f71d-78ad-4a13-818c-33cf9a09e3c6",
   "metadata": {},
   "source": [
    "## Load and splite the data\n"
   ]
  },
  {
   "cell_type": "code",
   "execution_count": 4,
   "id": "39be4795-dcf0-4466-a73d-a1da45599f23",
   "metadata": {},
   "outputs": [],
   "source": [
    "data = pd.read_csv('C:/Users/windows 10/MyProject/DeepLearning/Data/Translated_texts.csv')\n",
    "\n",
    "# Clean the dataset (remove unnecessary columns)\n",
    "columns_to_remove = ['name', 'date', 'likes', 'source']\n",
    "data = data.drop(columns=columns_to_remove, errors='ignore')\n",
    "data = data.dropna(subset=['comment', 'sentiment'])\n",
    "\n",
    "# Define features and target\n",
    "X = data['comment']\n",
    "y = data['sentiment']\n",
    "\n",
    "# Splite the data(80 % for Train, 20% for Test)\n",
    "X_train, X_test, y_train, y_test = train_test_split(X, y, test_size=0.2, random_state=42)\n",
    "\n"
   ]
  },
  {
   "cell_type": "markdown",
   "id": "23068f2b-45cf-4b69-a2b7-b523e92c8ee6",
   "metadata": {},
   "source": [
    "## Set hyperparameters manually"
   ]
  },
  {
   "cell_type": "code",
   "execution_count": 7,
   "id": "86bb91ae-67e8-4209-aec3-848f0bbdfeda",
   "metadata": {},
   "outputs": [],
   "source": [
    "manual_hyperparams = {\n",
    "    \"Naive Bayes\": {\n",
    "        \"tfidf_params\": {\"max_df\": 0.9, \"min_df\": 2, \"ngram_range\": (1, 2)},\n",
    "        \"model_params\": {\"alpha\": 0.5}\n",
    "    },\n",
    "    \"Decision Tree\": {\n",
    "        \"tfidf_params\": {\"max_df\": 0.95, \"min_df\": 2, \"ngram_range\": (1, 2)},\n",
    "        \"model_params\": {\"max_depth\": None, \"min_samples_split\": 2}\n",
    "    },\n",
    "    \"Support Vector Machine\": {\n",
    "        \"tfidf_params\": {\"max_df\": 0.95, \"min_df\": 2, \"ngram_range\": (1, 1)},\n",
    "        \"model_params\": {\"C\": 1, \"gamma\": 1}\n",
    "    },\n",
    "    \"Logistic Regression\": {\n",
    "        \"tfidf_params\": {\"max_df\": 0.9, \"min_df\": 2, \"ngram_range\": (1, 1)},\n",
    "        \"model_params\": {\"C\": 1, \"solver\": \"liblinear\"}\n",
    "    }\n",
    "}\n",
    "\n",
    "# Store models\n",
    "models = {\n",
    "    \"Naive Bayes\": MultinomialNB,\n",
    "    \"Decision Tree\": DecisionTreeClassifier,\n",
    "    \"Support Vector Machine\": SVC,\n",
    "    \"Logistic Regression\": LogisticRegression\n",
    "}\n",
    "\n"
   ]
  },
  {
   "cell_type": "markdown",
   "id": "d5b28cb2-25c4-4b10-b663-ce608fd99180",
   "metadata": {},
   "source": [
    "## Train, Test, Evaluate the model"
   ]
  },
  {
   "cell_type": "code",
   "execution_count": 10,
   "id": "afe8942b-05ba-42b1-b057-91d686bcbbec",
   "metadata": {},
   "outputs": [
    {
     "name": "stdout",
     "output_type": "stream",
     "text": [
      "Training Naive Bayes...\n",
      "Model: Naive Bayes\n",
      "=======>>>Training : 0.89\n",
      "Testing Accuracy: 0.77\n",
      "Precision: 0.77\n",
      "Recall: 0.77\n",
      "F1-score: 0.76\n",
      "============================================================\n",
      "Training Decision Tree...\n",
      "Model: Decision Tree\n",
      "=======>>>Training : 0.98\n",
      "Testing Accuracy: 0.73\n",
      "Precision: 0.73\n",
      "Recall: 0.73\n",
      "F1-score: 0.72\n",
      "============================================================\n",
      "Training Support Vector Machine...\n",
      "Model: Support Vector Machine\n",
      "=======>>>Training : 0.94\n",
      "Testing Accuracy: 0.77\n",
      "Precision: 0.77\n",
      "Recall: 0.77\n",
      "F1-score: 0.76\n",
      "============================================================\n",
      "Training Logistic Regression...\n",
      "Model: Logistic Regression\n",
      "=======>>>Training : 0.86\n",
      "Testing Accuracy: 0.76\n",
      "Precision: 0.78\n",
      "Recall: 0.76\n",
      "F1-score: 0.75\n",
      "============================================================\n"
     ]
    }
   ],
   "source": [
    "for model_name, model_class in models.items():\n",
    "    print(f\"Training {model_name}...\")\n",
    "    \n",
    "    # Create the pipeline \n",
    "    tfidf_params = manual_hyperparams[model_name][\"tfidf_params\"]\n",
    "    model_params = manual_hyperparams[model_name][\"model_params\"]\n",
    "    \n",
    "    pipeline = Pipeline([\n",
    "        ('tfidf', TfidfVectorizer(**tfidf_params)),\n",
    "        ('model', model_class(**model_params))\n",
    "    ])\n",
    "    \n",
    "    # Train the model\n",
    "    pipeline.fit(X_train, y_train)\n",
    "    \n",
    "    # Calculate training accuracy\n",
    "    y_train_pred = pipeline.predict(X_train)\n",
    "    train_accuracy = accuracy_score(y_train, y_train_pred)\n",
    "    \n",
    "    # Calculate testing accuracy\n",
    "    y_test_pred = pipeline.predict(X_test)\n",
    "    test_accuracy = accuracy_score(y_test, y_test_pred)\n",
    "    \n",
    "    # Evaluate testing performance\n",
    "    precision, recall, f1, _ = precision_recall_fscore_support(y_test, y_test_pred, average='weighted')\n",
    "    \n",
    "    \n",
    "    print(f\"Model: {model_name}\")\n",
    "    print(f\"=======>>>Training : {train_accuracy:.2f}\")\n",
    "    \n",
    "    print(f\"Testing Accuracy: {test_accuracy:.2f}\")\n",
    "    print(f\"Precision: {precision:.2f}\")\n",
    "    print(f\"Recall: {recall:.2f}\")\n",
    "    print(f\"F1-score: {f1:.2f}\")\n",
    "    print(\"=\" * 60)\n"
   ]
  },
  {
   "cell_type": "code",
   "execution_count": null,
   "id": "7ab2fe7c-384f-4622-a5d5-be6d75d366e7",
   "metadata": {},
   "outputs": [],
   "source": []
  }
 ],
 "metadata": {
  "kernelspec": {
   "display_name": "Python (env)",
   "language": "python",
   "name": "env"
  },
  "language_info": {
   "codemirror_mode": {
    "name": "ipython",
    "version": 3
   },
   "file_extension": ".py",
   "mimetype": "text/x-python",
   "name": "python",
   "nbconvert_exporter": "python",
   "pygments_lexer": "ipython3",
   "version": "3.11.10"
  }
 },
 "nbformat": 4,
 "nbformat_minor": 5
}
